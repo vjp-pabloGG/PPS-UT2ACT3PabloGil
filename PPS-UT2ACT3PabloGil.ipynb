{
 "cells": [
  {
   "cell_type": "markdown",
   "id": "5f0bd149-d43e-448f-9730-7ef05438effb",
   "metadata": {},
   "source": [
    "# Pruebas en Python\n",
    "\n",
    "Partamos de la primera función para comprobar su clase de equivalencia:"
   ]
  },
  {
   "cell_type": "markdown",
   "id": "b722cbbe-345b-41bb-91e2-a75775da7c22",
   "metadata": {},
   "source": [
    "# 1. Comprobación de las clases de equivalencia de las funciones `isNumber` y `division`\n",
    "\n",
    "## a) Función `isNumber`:\n",
    "\n",
    "La función `isNumber(a)` verifica si el valor ingresado es un número. Al probar esta función, tenemos que considerar los siguientes casos para las **clases de equivalencia**:\n",
    "\n",
    "### Clases de equivalencia válidas (números válidos):\n",
    "- Cualquier número entero, como `3`, `-5`, `100`.\n",
    "- Cualquier número decimal, como `3.14`, `-0.01`, `0.5`.\n",
    "- Cualquier cadena que pueda convertirse a un número, como `'123'`, `'3.14'`.\n",
    "\n",
    "### Clases de equivalencia no válidas (no números):\n",
    "- Cualquier cadena que no represente un número, como `'abc'`, `'hello'`.\n",
    "- Listas, diccionarios, u otros tipos que no sean números, como `[1,2,3]`, `{\"key\": \"value\"}`.\n",
    "\n",
    "Estos casos se pueden probar con una variedad de entradas.\n",
    "\n",
    "\n"
   ]
  },
  {
   "cell_type": "code",
   "execution_count": null,
   "id": "69ed3109-cbb9-4d82-95d0-e8b8af8a7a27",
   "metadata": {},
   "outputs": [],
   "source": [
    "def isnumber(a):\n",
    "    try: \n",
    "        float(a) \n",
    "        return True \n",
    "    except ValueError: \n",
    "        return False"
   ]
  },
  {
   "cell_type": "markdown",
   "id": "0e373665-35e4-4ff7-ad39-314a1860e153",
   "metadata": {},
   "source": [
    "## b) Función `division`:\n",
    "\n",
    "La función `division(a, b)` realiza una división, pero tiene una comprobación para evitar la división por cero. Las **clases de equivalencia** serían:\n",
    "\n",
    "### Clases de equivalencia válidas:\n",
    "- `b != 0` (caso general): La división entre dos números, como `division(6, 2)` o `division(-9, 3)`.\n",
    "\n",
    "### Clases de equivalencia no válidas:\n",
    "- `b == 0` (división por cero): Como `division(5, 0)` o `division(10, 0)`."
   ]
  },
  {
   "cell_type": "code",
   "execution_count": null,
   "id": "f991119a-24d8-46a8-b229-7201e3a5c1a5",
   "metadata": {},
   "outputs": [],
   "source": [
    "def division(a, b):\n",
    "    \"\"\"División de dos números, con control de división por cero.\"\"\"\n",
    "    if b == 0:\n",
    "        return \"Error: No se puede dividir entre cero.\"\n",
    "    return a / b"
   ]
  },
  {
   "cell_type": "markdown",
   "id": "d72c80ba-c71c-4474-8614-be97b8a1ad10",
   "metadata": {},
   "source": [
    "# 1. Grafo de flujo de la función `division(a, b)`\n",
    "\n",
    "```plaintext\n",
    "             +-----------------------+\n",
    "             |    Inicio             |\n",
    "             +-----------------------+\n",
    "                      |\n",
    "                      v\n",
    "          +--------------------------+\n",
    "          | ¿b == 0?                  |\n",
    "          +--------------------------+\n",
    "             /           \\\n",
    "           Sí             No\n",
    "         /                 \\\n",
    "+-------------------+    +-----------------------+\n",
    "| Error:           |    | Realizar la división  |\n",
    "| No dividir entre |    | a / b                  |\n",
    "| cero.            |    +-----------------------+\n",
    "+-------------------+             |\n",
    "         |                         v\n",
    "         v                +----------------------+\n",
    "+------------------+     | Imprimir el resultado |\n",
    "|  Fin del programa|     +----------------------+\n",
    "+------------------+             |\n",
    "                                   v\n",
    "                            +--------------------+\n",
    "                            | Fin de la operación |\n",
    "                            +--------------------+\n"
   ]
  },
  {
   "cell_type": "markdown",
   "id": "75cb049a-88cd-4738-bf4b-bd55e6b95eaa",
   "metadata": {},
   "source": [
    "# 2. Grafo de flujo de la función `multiplicacion(a, b)`\n",
    "\n",
    "```plaintext\n",
    "             +----------------------+\n",
    "             |    Inicio            |\n",
    "             +----------------------+\n",
    "                      |\n",
    "                      v\n",
    "          +---------------------------+\n",
    "          | Realizar multiplicación   |\n",
    "          | a * b                      |\n",
    "          +---------------------------+\n",
    "                      |\n",
    "                      v\n",
    "         +----------------------------+\n",
    "         | Imprimir el resultado      |\n",
    "         +----------------------------+\n",
    "                      |\n",
    "                      v\n",
    "             +-----------------------+\n",
    "             | Fin de la operación   |\n",
    "             +-----------------------+\n"
   ]
  },
  {
   "cell_type": "code",
   "execution_count": null,
   "id": "64a3bf30-d2e4-4e5a-a068-5af1a59cbf69",
   "metadata": {},
   "outputs": [],
   "source": []
  }
 ],
 "metadata": {
  "kernelspec": {
   "display_name": "Python 3 (ipykernel)",
   "language": "python",
   "name": "python3"
  },
  "language_info": {
   "codemirror_mode": {
    "name": "ipython",
    "version": 3
   },
   "file_extension": ".py",
   "mimetype": "text/x-python",
   "name": "python",
   "nbconvert_exporter": "python",
   "pygments_lexer": "ipython3",
   "version": "3.12.8"
  }
 },
 "nbformat": 4,
 "nbformat_minor": 5
}
